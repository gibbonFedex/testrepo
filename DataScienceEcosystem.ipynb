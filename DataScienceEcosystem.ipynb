{
 "cells": [
  {
   "cell_type": "markdown",
   "id": "cdf48735",
   "metadata": {},
   "source": [
    "# Data Science Tools and Ecosystem"
   ]
  },
  {
   "cell_type": "markdown",
   "id": "219bd746",
   "metadata": {},
   "source": [
    "In this notebook, Data Science Tools and Ecosystem are summarized."
   ]
  },
  {
   "cell_type": "markdown",
   "id": "9b837b55",
   "metadata": {},
   "source": [
    "**Objectives**"
   ]
  },
  {
   "cell_type": "markdown",
   "id": "cc0a44c7",
   "metadata": {},
   "source": [
    "- Discuss popular languages that Data Scientists use"
   ]
  },
  {
   "cell_type": "markdown",
   "id": "51e75c89",
   "metadata": {},
   "source": [
    "- Discuss common libraries used in Data Science"
   ]
  },
  {
   "cell_type": "markdown",
   "id": "a21f39a7",
   "metadata": {},
   "source": [
    "- Discuss how to use mathematical expressions"
   ]
  },
  {
   "cell_type": "markdown",
   "id": "8b6e5f5a",
   "metadata": {},
   "source": [
    "Some of the popular languages that Data Scientists use are:\n",
    "    "
   ]
  },
  {
   "cell_type": "markdown",
   "id": "7d6930c6",
   "metadata": {},
   "source": [
    "1. python\n",
    "   "
   ]
  },
  {
   "cell_type": "markdown",
   "id": "2b85944f",
   "metadata": {},
   "source": [
    "2. R\n",
    "    "
   ]
  },
  {
   "cell_type": "markdown",
   "id": "6464d8b2",
   "metadata": {},
   "source": [
    "3. Java"
   ]
  },
  {
   "cell_type": "markdown",
   "id": "82372ffa",
   "metadata": {},
   "source": [
    "Some of the commonly used libraries used by Data Scientists include:"
   ]
  },
  {
   "cell_type": "markdown",
   "id": "eb557d5c",
   "metadata": {},
   "source": [
    "1.NumPy"
   ]
  },
  {
   "cell_type": "markdown",
   "id": "83c1ee8c",
   "metadata": {},
   "source": [
    "2.pandas"
   ]
  },
  {
   "cell_type": "markdown",
   "id": "ed41ef16",
   "metadata": {},
   "source": [
    "3.Matplotlib"
   ]
  },
  {
   "cell_type": "markdown",
   "id": "16dae3da",
   "metadata": {},
   "source": [
    "|Data Science Tools|\n",
    "------------------\n",
    "|Jupyter Lab|\n",
    "|RStudio|\n",
    "|Apache Spark|"
   ]
  },
  {
   "cell_type": "markdown",
   "id": "567c0b7c",
   "metadata": {},
   "source": [
    "### Below are a few examples of evaluating arithmetic expressions in Python."
   ]
  },
  {
   "cell_type": "code",
   "execution_count": 2,
   "id": "d34f9bb9",
   "metadata": {},
   "outputs": [],
   "source": [
    "#This is a simple math expression to multiply and add integers."
   ]
  },
  {
   "cell_type": "code",
   "execution_count": 3,
   "id": "365e6ac4",
   "metadata": {},
   "outputs": [
    {
     "data": {
      "text/plain": [
       "17"
      ]
     },
     "execution_count": 3,
     "metadata": {},
     "output_type": "execute_result"
    }
   ],
   "source": [
    "(3*4)+5"
   ]
  },
  {
   "cell_type": "code",
   "execution_count": 4,
   "id": "80658507",
   "metadata": {},
   "outputs": [
    {
     "data": {
      "text/plain": [
       "3.3333333333333335"
      ]
     },
     "execution_count": 4,
     "metadata": {},
     "output_type": "execute_result"
    }
   ],
   "source": [
    "#This will convert 200 minutes to hours by dividing by 60.\n",
    "200/60"
   ]
  },
  {
   "cell_type": "markdown",
   "id": "badb4841",
   "metadata": {},
   "source": [
    "## Author"
   ]
  },
  {
   "cell_type": "markdown",
   "id": "fe41c91d",
   "metadata": {},
   "source": [
    "Jacqueline Marsh"
   ]
  },
  {
   "cell_type": "code",
   "execution_count": null,
   "id": "4d451231",
   "metadata": {},
   "outputs": [],
   "source": []
  }
 ],
 "metadata": {
  "kernelspec": {
   "display_name": "Python 3 (ipykernel)",
   "language": "python",
   "name": "python3"
  },
  "language_info": {
   "codemirror_mode": {
    "name": "ipython",
    "version": 3
   },
   "file_extension": ".py",
   "mimetype": "text/x-python",
   "name": "python",
   "nbconvert_exporter": "python",
   "pygments_lexer": "ipython3",
   "version": "3.10.10"
  }
 },
 "nbformat": 4,
 "nbformat_minor": 5
}
